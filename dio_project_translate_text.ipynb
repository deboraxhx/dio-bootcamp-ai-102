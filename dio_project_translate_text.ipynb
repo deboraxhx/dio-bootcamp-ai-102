{
  "nbformat": 4,
  "nbformat_minor": 0,
  "metadata": {
    "colab": {
      "provenance": []
    },
    "kernelspec": {
      "name": "python3",
      "display_name": "Python 3"
    },
    "language_info": {
      "name": "python"
    }
  },
  "cells": [
    {
      "cell_type": "code",
      "source": [
        "import requests\n",
        "from docx import Document\n",
        "import os\n",
        "subscription_key = \"API_KEY\"\n",
        "endpoint = \"https://api.cognitive.microsofttranslator.com/\"\n",
        "location = \"eastus\"\n",
        "target_language = \"pt-br\"\n",
        "\n",
        "\n",
        "def translate_text(text, target_language):\n",
        "    path = '/translate'\n",
        "    constructed_url = endpoint + path\n",
        "    headers = {\n",
        "        'Ocp-Apim-Subscription-Key': subscription_key,\n",
        "        'Ocp-Apim-Subscription-Region': location,\n",
        "        'Content-type': 'application/json',\n",
        "        'X-ClientTraceId' : str(os.urandom(16))\n",
        "    }\n",
        "\n",
        "    body = [{\n",
        "        'text': text\n",
        "    }]\n",
        "\n",
        "    params = {\n",
        "        'api-version': '3.0',\n",
        "        'from': 'en',\n",
        "        'to': target_language\n",
        "    }\n",
        "\n",
        "    request = requests.post(constructed_url, headers=headers, json=body, params=params)\n",
        "    response = request.json()\n",
        "    translated_text = response[0]['translations'][0]['text']\n",
        "    return translated_text\n"
      ],
      "metadata": {
        "id": "ZXEDdZHK_k2m"
      },
      "execution_count": null,
      "outputs": []
    },
    {
      "cell_type": "code",
      "source": [
        "translate_text(\"The imagery of talking to the moon symbolizes a desire for connection and the feeling of being alone in one's emotions.\", target_language)\n"
      ],
      "metadata": {
        "colab": {
          "base_uri": "https://localhost:8080/",
          "height": 36
        },
        "id": "w90XY0PACjzE",
        "outputId": "124c6102-98c4-4e64-813f-1124c375e5d2"
      },
      "execution_count": null,
      "outputs": [
        {
          "output_type": "execute_result",
          "data": {
            "text/plain": [
              "'A imagem de falar com a lua simboliza um desejo de conexão e a sensação de estar sozinho em suas emoções.'"
            ],
            "application/vnd.google.colaboratory.intrinsic+json": {
              "type": "string"
            }
          },
          "metadata": {},
          "execution_count": 4
        }
      ]
    },
    {
      "cell_type": "code",
      "source": [
        "def translate_document(path):\n",
        "    document = Document(path)\n",
        "    full_text = []\n",
        "    for paragraph in document.paragraphs:\n",
        "        full_text.append(paragraph.text)\n",
        "    full_text = ' '.join(full_text)\n",
        "    translated_text = translate_text(full_text, target_language)\n",
        "\n",
        "    translate_document = Document()\n",
        "    translate_document.add_paragraph(translated_text)\n",
        "    path_translate = path.replace(\".docx\", \"_translate.docx\")\n",
        "    translate_document.save(path_translate)\n",
        "    return translate_text\n",
        "#"
      ],
      "metadata": {
        "id": "XRAZhVElCtoV"
      },
      "execution_count": null,
      "outputs": []
    },
    {
      "cell_type": "code",
      "source": [
        "input_document_path = \"/content/_Talking to the Moon_.docx\"\n",
        "translate_document(input_document_path)"
      ],
      "metadata": {
        "colab": {
          "base_uri": "https://localhost:8080/",
          "height": 105
        },
        "id": "fkuN8jUTDSD5",
        "outputId": "1ad380e2-a1b9-4a47-dfab-a96ea1605c39"
      },
      "execution_count": null,
      "outputs": [
        {
          "output_type": "execute_result",
          "data": {
            "text/plain": [
              "<function __main__.translate_text(text, target_language)>"
            ],
            "text/html": [
              "<div style=\"max-width:800px; border: 1px solid var(--colab-border-color);\"><style>\n",
              "      pre.function-repr-contents {\n",
              "        overflow-x: auto;\n",
              "        padding: 8px 12px;\n",
              "        max-height: 500px;\n",
              "      }\n",
              "\n",
              "      pre.function-repr-contents.function-repr-contents-collapsed {\n",
              "        cursor: pointer;\n",
              "        max-height: 100px;\n",
              "      }\n",
              "    </style>\n",
              "    <pre style=\"white-space: initial; background:\n",
              "         var(--colab-secondary-surface-color); padding: 8px 12px;\n",
              "         border-bottom: 1px solid var(--colab-border-color);\"><b>translate_text</b><br/>def translate_text(text, target_language)</pre><pre class=\"function-repr-contents function-repr-contents-collapsed\" style=\"\"><a class=\"filepath\" style=\"display:none\" href=\"#\">/tmp/ipython-input-2409636570.py</a>&lt;no docstring&gt;</pre></div>"
            ]
          },
          "metadata": {},
          "execution_count": 12
        }
      ]
    },
    {
      "cell_type": "code",
      "metadata": {
        "colab": {
          "base_uri": "https://localhost:8080/"
        },
        "id": "d5a60066",
        "outputId": "5017510f-0d61-4b36-bd54-c0b12777cd73"
      },
      "source": [
        "def read_document(path):\n",
        "    document = Document(path)\n",
        "    full_text = []\n",
        "    for paragraph in document.paragraphs:\n",
        "        full_text.append(paragraph.text)\n",
        "    return '\\n'.join(full_text)\n",
        "\n",
        "translated_doc_path = \"/content/_Talking to the Moon__translate.docx\"\n",
        "translated_content = read_document(translated_doc_path)\n",
        "print(translated_content)"
      ],
      "execution_count": null,
      "outputs": [
        {
          "output_type": "stream",
          "name": "stdout",
          "text": [
            "\"Talking to the Moon\" é uma balada sincera de Bruno Mars, apresentada em seu primeiro álbum de estúdio, \"Doo-Wops & Hooligans\", lançado em 2010. A música mostra a voz comovente e a profundidade emocional de Mars enquanto ele canta sobre saudade e amor não correspondido. A letra retrata uma sensação de anseio, com o protagonista expressando seus sentimentos para a lua, esperando que suas palavras cheguem à pessoa que ama, apesar da distância física entre elas.      A imagem de falar com a lua simboliza um desejo de conexão e a sensação de estar sozinho em suas emoções. A música captura a essência da vulnerabilidade, enquanto o narrador derrama seu coração, desejando que a lua transmita suas mensagens para sua amada. A melodia é calmante e melancólica, aumentando o peso emocional da letra.     \"Talking to the Moon\" é uma balada sincera de Bruno Mars, apresentada em seu primeiro álbum de estúdio, \"Doo-Wops & Hooligans\", lançado em 2010. A música mostra a voz comovente e a profundidade emocional de Mars enquanto ele canta sobre saudade e amor não correspondido. A letra retrata uma sensação de anseio, com o protagonista expressando seus sentimentos para a lua, esperando que suas palavras cheguem à pessoa que ama, apesar da distância física entre elas.      A imagem de falar com a lua simboliza um desejo de conexão e a sensação de estar sozinho em suas emoções. A música captura a essência da vulnerabilidade, enquanto o narrador derrama seu coração, desejando que a lua transmita suas mensagens para sua amada. A melodia é calmante e melancólica, aumentando o peso emocional da letra.      Musicalmente, \"Talking to the Moon\" combina elementos de pop e R&B, apresentando um acompanhamento de piano suave que complementa a entrega vocal de Mars. A música ressoou com muitos ouvintes, tornando-se uma das favoritas por seus temas relacionáveis de amor e saudade. Ao longo dos anos, ganhou popularidade em várias plataformas, solidificando seu lugar como uma das faixas de assinatura de Bruno Mars.       No geral, \"Talking to the Moon\" é uma bela expressão de amor e desejo, mostrando o talento de Bruno Mars como compositor e intérprete. Sua mensagem atemporal continua a tocar os corações dos fãs ao redor do mundo. Musicalmente, \"Talking to the Moon\" combina elementos de pop e R&B, apresentando um acompanhamento de piano suave que complementa a entrega vocal de Mars. A música ressoou com muitos ouvintes, tornando-se uma das favoritas por seus temas relacionáveis de amor e saudade. Ao longo dos anos, ganhou popularidade em várias plataformas, solidificando seu lugar como uma das faixas de assinatura de Bruno Mars.       No geral, \"Talking to the Moon\" é uma bela expressão de amor e desejo, mostrando o talento de Bruno Mars como compositor e intérprete. Sua mensagem atemporal continua a tocar os corações dos fãs ao redor do mundo.\n"
          ]
        }
      ]
    },
    {
      "cell_type": "code",
      "source": [],
      "metadata": {
        "id": "G0pCAmZTFTNw"
      },
      "execution_count": null,
      "outputs": []
    }
  ]
}